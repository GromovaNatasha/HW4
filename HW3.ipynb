{
  "nbformat": 4,
  "nbformat_minor": 0,
  "metadata": {
    "colab": {
      "provenance": [],
      "authorship_tag": "ABX9TyNLMHaT5YuVVvdLpNYkbGAd",
      "include_colab_link": true
    },
    "kernelspec": {
      "name": "python3",
      "display_name": "Python 3"
    },
    "language_info": {
      "name": "python"
    }
  },
  "cells": [
    {
      "cell_type": "markdown",
      "metadata": {
        "id": "view-in-github",
        "colab_type": "text"
      },
      "source": [
        "<a href=\"https://colab.research.google.com/github/GromovaNatasha/HW4/blob/main/HW3.ipynb\" target=\"_parent\"><img src=\"https://colab.research.google.com/assets/colab-badge.svg\" alt=\"Open In Colab\"/></a>"
      ]
    },
    {
      "cell_type": "code",
      "source": [
        "def get_dishes():\n",
        "    file_path ='./dishes.txt'\n",
        "    cook_book = {}\n",
        "    with open(file_path, 'r', encoding='utf-8') as f:\n",
        "        for dish in f:\n",
        "            dish_name = dish.strip()\n",
        "            dish_number = int(f.readline())\n",
        "            list_ingredients = list()\n",
        "            for i in range(dish_number):\n",
        "                ingredients_description = {}\n",
        "                ingredients_line = f.readline().strip()\n",
        "                ingredients_description['ingredient_name'], ingredients_description['quantity'], ingredients_description['measure'] = ingredients_line.split('|')\n",
        "                ingredients_description['quantity'] = int(ingredients_description['quantity'])\n",
        "                list_ingredients.append(ingredients_description)\n",
        "            f.readline()\n",
        "            cook_book[dish_name] = list_ingredients\n",
        "    return cook_book\n",
        "\n",
        "result=get_dishes()\n",
        "result"
      ],
      "metadata": {
        "colab": {
          "base_uri": "https://localhost:8080/"
        },
        "id": "fZki-yNhQtHW",
        "outputId": "8c3e0548-1578-4512-baa4-8fef118fbe55"
      },
      "execution_count": 108,
      "outputs": [
        {
          "output_type": "execute_result",
          "data": {
            "text/plain": [
              "{'Омлет': [{'ingredient_name': 'Яйцо ', 'quantity': 2, 'measure': ' шт'},\n",
              "  {'ingredient_name': 'Молоко ', 'quantity': 100, 'measure': ' мл'},\n",
              "  {'ingredient_name': 'Помидор ', 'quantity': 2, 'measure': ' шт'}],\n",
              " 'Утка по-пекински': [{'ingredient_name': 'Утка ',\n",
              "   'quantity': 1,\n",
              "   'measure': ' шт'},\n",
              "  {'ingredient_name': 'Вода ', 'quantity': 2, 'measure': ' л'},\n",
              "  {'ingredient_name': 'Мед ', 'quantity': 3, 'measure': ' ст.л'},\n",
              "  {'ingredient_name': 'Соевый соус ', 'quantity': 60, 'measure': ' мл'}],\n",
              " 'Запеченный картофель': [{'ingredient_name': 'Картофель ',\n",
              "   'quantity': 1,\n",
              "   'measure': ' кг'},\n",
              "  {'ingredient_name': 'Чеснок ', 'quantity': 3, 'measure': ' зубч'},\n",
              "  {'ingredient_name': 'Сыр гауда ', 'quantity': 100, 'measure': ' г'}],\n",
              " 'Фахитос': [{'ingredient_name': 'Говядина ',\n",
              "   'quantity': 500,\n",
              "   'measure': ' г'},\n",
              "  {'ingredient_name': 'Перец сладкий ', 'quantity': 1, 'measure': ' шт'},\n",
              "  {'ingredient_name': 'Лаваш ', 'quantity': 2, 'measure': ' шт'},\n",
              "  {'ingredient_name': 'Винный уксус ', 'quantity': 1, 'measure': ' ст.л'},\n",
              "  {'ingredient_name': 'Помидор ', 'quantity': 2, 'measure': ' шт'}]}"
            ]
          },
          "metadata": {},
          "execution_count": 108
        }
      ]
    },
    {
      "cell_type": "code",
      "source": [
        "def get_shop_list_by_dishes(dishes:list, person_count:int):\n",
        "    shopping_list = {}\n",
        "    cook_book=get_dishes()\n",
        "\n",
        "    for dish in dishes:\n",
        "      print(dish)\n",
        "      ingr_list = dict()\n",
        "      for ingredients in cook_book[dish]:\n",
        "          print()\n",
        "          ingredient_name = ingredients['ingredient_name']\n",
        "          measure = ingredients['measure']\n",
        "          quantity=ingredients['quantity']*person_count\n",
        "          if ingredient_name in shopping_list:\n",
        "             shopping_list[ingredient_name]['quantity'] += quantity\n",
        "          else:\n",
        "             shopping_list[ingredient_name] = {'measure': measure, 'quantity': quantity}\n",
        "\n",
        "    return shopping_list\n",
        "\n",
        "\n",
        "result_2=get_shop_list_by_dishes(['Запеченный картофель', 'Омлет'], 2)\n",
        "result_2\n",
        ""
      ],
      "metadata": {
        "id": "I4gPPkDzMJ-Z"
      },
      "execution_count": 121,
      "outputs": []
    },
    {
      "cell_type": "code",
      "source": [
        "import os\n",
        "file_paths = ['1.txt', '2.txt', '3.txt']  # Replace with the paths to your text files\n",
        "\n",
        "file_contents = []\n",
        "len_content=[]\n",
        "file_names = []\n",
        "for file_path in file_paths:\n",
        "    with open(file_path, 'r') as file:\n",
        "        content = file.read()\n",
        "        file_contents.append(content)\n",
        "        len_content.append(len(content))\n",
        "        file_names.append(os.path.basename(file_path))\n",
        "\n",
        "file_data = list(zip(file_names, file_contents, len_content))\n",
        "sorted_file_data = sorted(file_data, key=lambda x: x[2])\n",
        "\n",
        "for name, content, content_length in sorted_file_data:\n",
        "    print(name)\n",
        "    print(content_length)\n",
        "    print(content)"
      ],
      "metadata": {
        "colab": {
          "base_uri": "https://localhost:8080/"
        },
        "id": "d4NsfnVVs1MF",
        "outputId": "23a0d2af-b581-4fe2-c4d4-4a140ed31ed6"
      },
      "execution_count": 130,
      "outputs": [
        {
          "output_type": "stream",
          "name": "stdout",
          "text": [
            "2.txt\n",
            "54\n",
            "Тревога началась в тринадцать часов ноль две минуты. \n",
            "\n",
            "1.txt\n",
            "494\n",
            "Начальник  полиции\n",
            "лично позвонил в шестнадцатый участок. А спустя  одну минуту тридцать секунд\n",
            "в дежурке и других комнатах нижнего этажа раздались звонки\n",
            "     Когда Иенсен  --  комиссар  шестнадцатого  участка --  вышел  из своего\n",
            "кабинета,  звонки еще  не смолкли. Иенсен был мужчина средних лет,  обычного\n",
            "сложения, с лицом плоским и невыразительным. На последней ступеньке винтовой\n",
            "лестницы  он задержался  и  обвел взглядом помещение дежурки. Затем поправил\n",
            "галстук и проследовал к машине.\n",
            "3.txt\n",
            "599\n",
            "     В  это время  дня  машины текли сплошным  блестящим  потоком,  а  среди\n",
            "потока, будто  колонны из бетона  и стекла, высились  здания. Здесь,  в мире\n",
            "резких граней,  люди  на тротуарах  выглядели  несчастными и  неприкаянными.\n",
            "Одеты они были хорошо, но как-то удивительно походили друг на друга и все до\n",
            "одного спешили. Они шли нестройными  вереницами, широко разливались, завидев\n",
            "красный  светофор или  металлический  блеск кафе-автоматов.  Они непрестанно\n",
            "озирались по сторонам и теребили портфели и сумочки.\n",
            "     Полицейские  машины  с  включенными  сиренами  пробивались  сквозь  эту\n",
            "толчею.\n"
          ]
        }
      ]
    }
  ]
}